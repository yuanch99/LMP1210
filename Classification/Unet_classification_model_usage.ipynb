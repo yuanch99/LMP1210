{
 "cells": [
  {
   "cell_type": "code",
   "execution_count": 129,
   "id": "cf61dd28",
   "metadata": {},
   "outputs": [],
   "source": [
    "import classification_utils\n",
    "import unet_utils\n",
    "from sklearn.tree import DecisionTreeClassifier\n",
    "import numpy as np\n",
    "import pandas as pd\n",
    "import segmentation_models as sm\n",
    "from tensorflow import keras\n",
    "import os\n",
    "from matplotlib import pyplot as plt\n",
    "from sklearn.metrics import roc_curve,precision_recall_curve,auc\n",
    "from joblib import load\n",
    "from dtreeviz.trees import dtreeviz\n",
    "from sklearn import tree\n",
    "from sklearn.metrics import roc_curve,precision_recall_curve,auc\n",
    "\n",
    "path = '/hpf/largeprojects/tabori/users/yuan/lmp1210/data/classification/'\n",
    "WRITE=False"
   ]
  },
  {
   "cell_type": "code",
   "execution_count": 130,
   "id": "163cb191",
   "metadata": {},
   "outputs": [],
   "source": [
    "#load UNet model\n",
    "sm.set_framework('tf.keras')\n",
    "sm.framework()\n",
    "#define model\n",
    "BACKBONE = 'vgg19'\n",
    "CLASSES = ['NCI', 'GCI','_background_']\n",
    "preprocess_input = sm.get_preprocessing(BACKBONE)\n",
    "model = sm.Unet(BACKBONE, encoder_weights=None,classes=3, activation='softmax',input_shape=(None, None, 3),encoder_freeze=True)\n",
    "model.load_weights('tuning_model_000_newbase.h5')"
   ]
  },
  {
   "cell_type": "code",
   "execution_count": 131,
   "id": "4c1b2371",
   "metadata": {},
   "outputs": [],
   "source": [
    "#load test data\n",
    "def predictFig(path):\n",
    "    imgs = classification_utils.crop_image(path)\n",
    "    imgs = preprocess_input(imgs)\n",
    "    pr_all = model.predict_on_batch(imgs)\n",
    "    pr_all_raw = pr_all\n",
    "    pr_all = unet_utils.threshold(pr_all,0.99,0.99)\n",
    "    return pr_all, pr_all_raw\n",
    "\n",
    "def load_test(path,N):\n",
    "    sample_name=[]\n",
    "    NCI_pixels=[]\n",
    "    GCI_pixels=[]\n",
    "    NCI_prob_sum=[]\n",
    "    GCI_prob_sum=[]\n",
    "    total_pixels=[]\n",
    "    tags = ['LBD_SN','LBD_CWM','MSA_SN','MSA_CWM']\n",
    "    for j in tags:\n",
    "        #we have #11-#70 as training data\n",
    "        for i in range(1,(N+1)):\n",
    "            pr_all,pr_all_raw = predictFig(os.path.join(path,'test',j,f'{j}_{i}.tif'))\n",
    "            NCI_pixels.append(np.count_nonzero(pr_all[...,0] == 1))\n",
    "            GCI_pixels.append(np.count_nonzero(pr_all[...,1] == 1))\n",
    "            NCI_prob_sum.append(np.sum(pr_all_raw[...,0]))\n",
    "            GCI_prob_sum.append(np.sum(pr_all_raw[...,1]))\n",
    "            total_pixels.append(pr_all.size)\n",
    "            sample_name.append(f'{j}_{i}')\n",
    "            print(f'finish for {j}_{i}')\n",
    "    predictions = pd.DataFrame({'sample_name':sample_name,\n",
    "                                'NCI_pixels':NCI_pixels,\n",
    "                                'GCI_pixels':GCI_pixels,\n",
    "                                'NCI_prob_sum':NCI_prob_sum,\n",
    "                                'GCI_prob_sum':GCI_prob_sum,\n",
    "                                'total_pixels':total_pixels})\n",
    "    return predictions\n",
    "\n",
    "if WRITE==True:   \n",
    "    predictions = load_test(path,10)\n",
    "    predictions.to_csv('classification_test.csv')\n",
    "else:\n",
    "    predictions=pd.read_csv('classification_test.csv')"
   ]
  },
  {
   "cell_type": "code",
   "execution_count": 132,
   "id": "1d68e9be",
   "metadata": {},
   "outputs": [
    {
     "data": {
      "text/plain": [
       "(20, 12)"
      ]
     },
     "execution_count": 132,
     "metadata": {},
     "output_type": "execute_result"
    }
   ],
   "source": [
    "#processing U-Net predction data for classification\n",
    "features = pd.DataFrame({\n",
    "    'sample_name':predictions.sample_name,\n",
    "    'NCI_norm':predictions.NCI_pixels/predictions.total_pixels,\n",
    "    'GCI_norm':predictions.GCI_pixels/predictions.total_pixels,\n",
    "    'NCI_GCI_ratio':predictions.NCI_pixels/predictions.GCI_pixels,\n",
    "    'NCI_prob_norm':predictions.NCI_prob_sum/predictions.total_pixels,\n",
    "    'GCI_prob_norm':predictions.GCI_prob_sum/predictions.total_pixels,\n",
    "    'NCI_GCI_prob_ratio':predictions.NCI_prob_sum/predictions.GCI_prob_sum,\n",
    "                        }).fillna(0)\n",
    "features.replace([np.inf, -np.inf], 99, inplace=True)\n",
    "\n",
    "#shuffle match pair of the test data\n",
    "# for i in range(0,10):\n",
    "#     for j in range(10,20):\n",
    "for i,j in zip(range(0,10),range(10,20)):\n",
    "        if (i==0 and j==10):\n",
    "            feature_LBD=np.expand_dims(np.append(features.iloc[i,1:],features.iloc[j,1:]),axis=0)\n",
    "        else:\n",
    "            feature_LBD=np.concatenate(\n",
    "                (np.expand_dims(np.append(features.iloc[i,1:],features.iloc[j,1:]),axis=0),\n",
    "                 feature_LBD)\n",
    "            )            \n",
    "\n",
    "\n",
    "# for i in range(20,30):\n",
    "#     for j in range(30,40):\n",
    "for i,j in zip(range(20,30),range(30,40)):\n",
    "        if i==20 and j==30:\n",
    "            feature_MSA=np.expand_dims(np.append(features.iloc[i,1:],features.iloc[j,1:]),axis=0)\n",
    "        else:\n",
    "            feature_MSA=np.concatenate(\n",
    "                (np.expand_dims(np.append(features.iloc[i,1:],features.iloc[j,1:]),axis=0),\n",
    "                 feature_MSA)\n",
    "            )\n",
    "\n",
    "features_test = np.concatenate((feature_LBD,feature_MSA))\n",
    "np.shape(features_test)"
   ]
  },
  {
   "cell_type": "code",
   "execution_count": 133,
   "id": "de08a4dd",
   "metadata": {},
   "outputs": [
    {
     "name": "stdout",
     "output_type": "stream",
     "text": [
      "   NCI_norm_SN GCI_norm_SN NCI_GCI_ratio_SN NCI_norm_CWM GCI_norm_CWM  \\\n",
      "0        0.488    0.620435         0.349951          0.0          0.0   \n",
      "1     0.612121    0.789501         0.372904          0.0          0.0   \n",
      "2     0.344131    0.136587         0.500118          0.0          0.0   \n",
      "3     0.552197    0.785463         0.337607          0.0          0.0   \n",
      "4     0.508664    0.752282         0.320491     0.583333          0.0   \n",
      "5     0.333847    0.023701         0.637571     0.666667     0.000111   \n",
      "6     0.642113    0.272647         0.723837          0.0          0.0   \n",
      "7     0.560549    0.277037         0.627441          0.0          0.0   \n",
      "8     0.595828    0.728933          0.38366          0.0          0.0   \n",
      "9          1.0    0.349895              1.0          0.0          0.0   \n",
      "10    0.000546    0.838483         0.000241          0.0     0.621886   \n",
      "11    0.000624    0.438904         0.000851          0.0     0.605427   \n",
      "12         0.0    0.725421              0.0          0.0     0.835854   \n",
      "13    0.019981    0.371489         0.019767          0.0     0.578292   \n",
      "14    0.005073         1.0         0.002438          0.0          1.0   \n",
      "15    0.003356    0.492275         0.003005          1.0     0.432384   \n",
      "16    0.018654    0.196629         0.024808          0.0      0.37589   \n",
      "17    0.008586    0.154494         0.012936          0.0     0.405249   \n",
      "18     0.00281         0.0          0.00747          0.0     0.435943   \n",
      "19    0.006244    0.245787         0.008022          0.0     0.605427   \n",
      "\n",
      "   NCI_GCI_ratio_CWM  \n",
      "0                0.0  \n",
      "1                0.0  \n",
      "2                0.0  \n",
      "3                0.0  \n",
      "4                1.0  \n",
      "5           0.080808  \n",
      "6                0.0  \n",
      "7                0.0  \n",
      "8                0.0  \n",
      "9                0.0  \n",
      "10               0.0  \n",
      "11               0.0  \n",
      "12               0.0  \n",
      "13               0.0  \n",
      "14               0.0  \n",
      "15          0.000031  \n",
      "16               0.0  \n",
      "17               0.0  \n",
      "18               0.0  \n",
      "19               0.0  \n"
     ]
    }
   ],
   "source": [
    "X_test = pd.DataFrame(\n",
    "    {\n",
    "         'NCI_norm_SN':features_test[:,0],\n",
    "         'GCI_norm_SN':features_test[:,1],\n",
    "         'NCI_GCI_ratio_SN':features_test[:,2],\n",
    "#          'NCI_prob_norm_SN':features_test[:,3],\n",
    "#          'GCI_prob_norm_SN':features_test[:,4],\n",
    "#          'NCI_GCI_prob_ratio_SN':features_test[:,5],\n",
    "         'NCI_norm_CWM':features_test[:,6],\n",
    "         'GCI_norm_CWM':features_test[:,7],\n",
    "         'NCI_GCI_ratio_CWM':features_test[:,8],\n",
    "#          'NCI_prob_norm_CWM':features_test[:,9],\n",
    "#          'GCI_prob_norm_CWM':features_test[:,10],\n",
    "#          'NCI_GCI_prob_ratio_CWM':features_test[:,11]\n",
    "    }\n",
    ")\n",
    "#normalize\n",
    "X_test = (X_test-X_test.min())/(X_test.max()-X_test.min())\n",
    "print(X_test)\n",
    "\n",
    "y_test = (['LBD']*10+['MSA']*10)\n",
    "#LBD=0, MSA=1\n",
    "y_test = ([0]*10+[1]*10)"
   ]
  },
  {
   "cell_type": "code",
   "execution_count": 134,
   "id": "8e0903dd",
   "metadata": {},
   "outputs": [],
   "source": [
    "#load model \n",
    "dt = load('decision_tree.joblib')\n",
    "lgr = load('logistic_regression.joblib')"
   ]
  },
  {
   "cell_type": "code",
   "execution_count": 135,
   "id": "181ac4b3",
   "metadata": {},
   "outputs": [],
   "source": [
    "y_dt = dt.predict(X_test)\n",
    "y_lgr = lgr.predict(X_test)\n",
    "y_dt_proba = dt.predict_proba(X_test)\n",
    "y_lgr_proba = lgr.predict_proba(X_test)"
   ]
  },
  {
   "cell_type": "code",
   "execution_count": 136,
   "id": "381d6366",
   "metadata": {
    "scrolled": true
   },
   "outputs": [
    {
     "data": {
      "image/png": "[encoded data removed]",
      "text/plain": [
       "<Figure size 864x360 with 2 Axes>"
      ]
     },
     "metadata": {
      "needs_background": "light"
     },
     "output_type": "display_data"
    }
   ],
   "source": [
    "#ROC and PR curve\n",
    "prcurve_dt = precision_recall_curve(y_test,y_dt_proba[:,1])\n",
    "auc_pr_dt=auc(prcurve_dt[1],prcurve_dt[0])\n",
    "prcurve_lgr = precision_recall_curve(y_test,y_lgr_proba[:,1])\n",
    "auc_pr_lgr=auc(prcurve_lgr[1],prcurve_lgr[0])\n",
    "\n",
    "roccurve_dt = roc_curve(y_test,y_dt_proba[:,1])\n",
    "auc_roc_dt=auc(roccurve_dt[0],roccurve_dt[1])\n",
    "roccurve_lgr = roc_curve(y_test,y_lgr_proba[:,1])\n",
    "auc_roc_lgr=auc(roccurve_lgr[0],roccurve_lgr[1])\n",
    "\n",
    "fig_curve,ax_curve = plt.subplots(figsize=(12,5))\n",
    "ax_pr = plt.subplot(121)\n",
    "plt.plot(prcurve_dt[1],prcurve_dt[0],label=f'Decision Tree AUC={auc_pr_dt:.3f}')\n",
    "plt.plot(prcurve_lgr[1],prcurve_lgr[0],label=f'Logistic Regression AUC={auc_pr_lgr:.3f}')\n",
    "plt.title('Percision Recall')\n",
    "plt.xlabel('Recall')\n",
    "plt.ylabel('Percision')\n",
    "plt.legend(loc=3)\n",
    "ax_roc = plt.subplot(122)\n",
    "plt.plot(roccurve_dt[0],roccurve_dt[1],label=f'Decision Tree AUC={auc_roc_dt:.3f}')\n",
    "plt.plot(roccurve_lgr[0],roccurve_lgr[1],label=f'Logistic Regression AUC={auc_roc_lgr:.3f}')\n",
    "plt.title('Receiver Operating Characteristic')\n",
    "plt.xlabel('False positive rate')\n",
    "plt.ylabel('True positive rate')\n",
    "plt.legend(loc=4)\n",
    "plt.suptitle('Classification\\npositive_label==\\'MSA\\'')\n",
    "fig_curve.savefig('classification-curve.png',dpi=500)"
   ]
  },
  {
   "cell_type": "code",
   "execution_count": 137,
   "id": "b68061d2",
   "metadata": {},
   "outputs": [
    {
     "name": "stdout",
     "output_type": "stream",
     "text": [
      "1.0\n",
      "1.0\n"
     ]
    }
   ],
   "source": [
    "print(dt.score(X_test,y_test))\n",
    "print(lgr.score(X_test,y_test))"
   ]
  },
  {
   "cell_type": "code",
   "execution_count": 138,
   "id": "dbaad5ad",
   "metadata": {},
   "outputs": [
    {
     "data": {
      "text/plain": [
       "array([0, 0, 0, 0, 0, 0, 0, 0, 0, 0, 1, 1, 1, 1, 1, 1, 1, 1, 1, 1])"
      ]
     },
     "execution_count": 138,
     "metadata": {},
     "output_type": "execute_result"
    }
   ],
   "source": [
    "y_lgr"
   ]
  },
  {
   "cell_type": "code",
   "execution_count": null,
   "id": "c099c383",
   "metadata": {},
   "outputs": [],
   "source": []
  },
  {
   "cell_type": "code",
   "execution_count": null,
   "id": "161481e3",
   "metadata": {},
   "outputs": [],
   "source": []
  }
 ],
 "metadata": {
  "kernelspec": {
   "display_name": "tf",
   "language": "python",
   "name": "tf"
  },
  "language_info": {
   "codemirror_mode": {
    "name": "ipython",
    "version": 3
   },
   "file_extension": ".py",
   "mimetype": "text/x-python",
   "name": "python",
   "nbconvert_exporter": "python",
   "pygments_lexer": "ipython3",
   "version": "3.10.0"
  }
 },
 "nbformat": 4,
 "nbformat_minor": 5
}
